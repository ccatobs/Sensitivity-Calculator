{
 "cells": [
  {
   "cell_type": "markdown",
   "metadata": {},
   "source": [
    "# Simons Observatory instrument parameters in HDF5 format\n",
    "\n",
    "Cannot use CSV to store instrument parameters because we will need to store large arrays for bandpasses."
   ]
  },
  {
   "cell_type": "code",
   "execution_count": 1,
   "metadata": {},
   "outputs": [],
   "source": [
    "import h5py"
   ]
  },
  {
   "cell_type": "code",
   "execution_count": 2,
   "metadata": {},
   "outputs": [],
   "source": [
    "f = h5py.File(\"simonsobs_instrument_parameters_2020.06.h5\", mode=\"r\")"
   ]
  },
  {
   "cell_type": "code",
   "execution_count": 3,
   "metadata": {},
   "outputs": [
    {
     "data": {
      "text/plain": [
       "'simonsobs_instrument_parameters_2020.06.h5'"
      ]
     },
     "execution_count": 3,
     "metadata": {},
     "output_type": "execute_result"
    }
   ],
   "source": [
    "f.filename"
   ]
  },
  {
   "cell_type": "code",
   "execution_count": 4,
   "metadata": {},
   "outputs": [
    {
     "data": {
      "text/plain": [
       "<KeysViewHDF5 ['LT0_UHF1', 'LT0_UHF2', 'LT1_UHF1', 'LT1_UHF2', 'LT2_MFF1', 'LT2_MFF2', 'LT3_MFF1', 'LT3_MFF2', 'LT4_MFS1', 'LT4_MFS2', 'LT5_MFS1', 'LT5_MFS2', 'LT6_LF1', 'LT6_LF2', 'ST0_UHF1', 'ST0_UHF2', 'ST1_MFF1', 'ST1_MFF2', 'ST2_MFS1', 'ST2_MFS2', 'ST3_LF1', 'ST3_LF2']>"
      ]
     },
     "execution_count": 4,
     "metadata": {},
     "output_type": "execute_result"
    }
   ],
   "source": [
    "f.keys()"
   ]
  },
  {
   "cell_type": "markdown",
   "metadata": {},
   "source": [
    "Channels are identified by `tube` + `band`\n",
    "\n",
    "Each channel is a HDF5 group which can contain both scalars (HDF5 attributes) and arrays (HDF5 datasets)."
   ]
  },
  {
   "cell_type": "code",
   "execution_count": 5,
   "metadata": {},
   "outputs": [
    {
     "data": {
      "text/plain": [
       "{'band': 'LF2', 'fwhm_arcmin': 5.1, 'telescope': 'LA', 'tube': 'LT6'}"
      ]
     },
     "execution_count": 5,
     "metadata": {},
     "output_type": "execute_result"
    }
   ],
   "source": [
    "dict(f[\"LT6_LF2\"].attrs)"
   ]
  },
  {
   "cell_type": "code",
   "execution_count": 6,
   "metadata": {},
   "outputs": [
    {
     "data": {
      "text/plain": [
       "<KeysViewHDF5 ['bandpass_frequency_GHz', 'bandpass_weight']>"
      ]
     },
     "execution_count": 6,
     "metadata": {},
     "output_type": "execute_result"
    }
   ],
   "source": [
    "f[\"LT6_LF2\"].keys()"
   ]
  },
  {
   "cell_type": "code",
   "execution_count": 7,
   "metadata": {},
   "outputs": [
    {
     "data": {
      "text/plain": [
       "<HDF5 dataset \"bandpass_frequency_GHz\": shape (10,), type \"<f8\">"
      ]
     },
     "execution_count": 7,
     "metadata": {},
     "output_type": "execute_result"
    }
   ],
   "source": [
    "f[\"LT6_LF2\"][\"bandpass_frequency_GHz\"]"
   ]
  },
  {
   "cell_type": "code",
   "execution_count": 8,
   "metadata": {},
   "outputs": [
    {
     "data": {
      "text/plain": [
       "array([30.9       , 32.67777778, 34.45555556, 36.23333333, 38.01111111,\n",
       "       39.78888889, 41.56666667, 43.34444444, 45.12222222, 46.9       ])"
      ]
     },
     "execution_count": 8,
     "metadata": {},
     "output_type": "execute_result"
    }
   ],
   "source": [
    "f[\"LT6_LF2\"][\"bandpass_frequency_GHz\"][:]"
   ]
  },
  {
   "cell_type": "code",
   "execution_count": 9,
   "metadata": {},
   "outputs": [
    {
     "data": {
      "text/plain": [
       "array([1., 1., 1., 1., 1., 1., 1., 1., 1., 1.], dtype=float32)"
      ]
     },
     "execution_count": 9,
     "metadata": {},
     "output_type": "execute_result"
    }
   ],
   "source": [
    "f[\"LT6_LF2\"][\"bandpass_weight\"][:]"
   ]
  },
  {
   "cell_type": "code",
   "execution_count": null,
   "metadata": {},
   "outputs": [],
   "source": []
  }
 ],
 "metadata": {
  "kernelspec": {
   "display_name": "healpyvenv",
   "language": "python",
   "name": "healpyvenv"
  },
  "language_info": {
   "codemirror_mode": {
    "name": "ipython",
    "version": 3
   },
   "file_extension": ".py",
   "mimetype": "text/x-python",
   "name": "python",
   "nbconvert_exporter": "python",
   "pygments_lexer": "ipython3",
   "version": "3.7.7"
  }
 },
 "nbformat": 4,
 "nbformat_minor": 4
}
