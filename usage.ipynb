{
 "cells": [
  {
   "cell_type": "markdown",
   "metadata": {},
   "source": [
    "# Overview:"
   ]
  },
  {
   "cell_type": "markdown",
   "metadata": {},
   "source": [
    "## Broadband Sensitivity Calculations:\n",
    "1. Import Excel Spreadsheet.py\n",
    "2. Call calcByAngle and store in a variable to create a function from observation zenith angle to various outputs\n",
    "3. Call created function with requested angle from zenith. *This is 90 - elevation angle*\n",
    "4. Create output display functions if necessary\n",
    "5. Call requested results"
   ]
  },
  {
   "cell_type": "code",
   "execution_count": null,
   "metadata": {},
   "outputs": [],
   "source": [
    "import sensitivity_calculator as sens\n",
    "import numpy as np\n",
    "\n",
    "inputs = {'diameter': 5.7, 't': 273, 'wfe': 10.7, 'eta': 0.98, 'doe': 0.8, 't_int': 1, 'pixelYield': 0.8, \n",
    "        'szCamNumPoln': 1, 'eorSpecNumPoln': 2, 't_filter_cold': np.array([0.593, 0.84 , 0.909, 0.922, 0.89 ]), \n",
    "        't_lens_cold': np.array([0.98, 0.98, 0.98, 0.98, 0.98]), \n",
    "        't_uhdpe_window': np.array([0.96, 0.97, 0.97, 0.97, 0.97]), \n",
    "        'singleModedAOmegaLambda2': np.array([1., 1., 1., 1., 1.]), \n",
    "        'spatialPixels': np.array([36450, 20808, 10368, 10368,  7938]), \n",
    "        'eqbw': np.array([9.7e+10, 3.0e+10, 3.6e+10, 7.0e+10, 5.6e+10]), \n",
    "        'centerFrequency': np.array([8.50e+11, 4.05e+11, 3.48e+11, 2.85e+11, 2.22e+11]), 'detectorNEP': 0, \n",
    "        'backgroundSubtractionDegradationFactor': 1, 'r': np.array([[100., 100., 100.],\n",
    "                                            [100., 100., 100.],\n",
    "                                            [100., 100., 100.],\n",
    "                                            [100., 100., 100.],\n",
    "                                            [100., 100., 100.]]), \n",
    "        'decimalPlaces': 3, 'observationElevationAngle': 45, 'outputFreq': True, \n",
    "        'detectorSpacing': np.array([1.51, 1.97, 2.75, 2.75, 3.13]), 'lyotStopAngle': 13.4}\n",
    "# Alternatively, sens.getInputs(\"input.yaml\")\n",
    "\n",
    "spillEfficiency = sens.getSpillEfficiency(inputs)\n",
    "calculate = sens.calcByAngle(inputs[\"diameter\"], inputs[\"t\"], inputs[\"wfe\"], inputs[\"eta\"], inputs[\"doe\"], inputs[\"t_int\"], inputs[\"pixelYield\"], inputs[\"szCamNumPoln\"], inputs[\"eorSpecNumPoln\"],\n",
    "                            inputs[\"t_filter_cold\"], inputs[\"t_lens_cold\"], inputs[\"t_uhdpe_window\"], spillEfficiency, inputs[\"singleModedAOmegaLambda2\"],\n",
    "                            inputs[\"spatialPixels\"], inputs[\"eqbw\"], inputs[\"centerFrequency\"], inputs[\"detectorNEP\"],\n",
    "                            inputs[\"backgroundSubtractionDegradationFactor\"], inputs[\"r\"])\n",
    "outputs = calculate(45)\n",
    "\n",
    "print(outputs[\"netW8Avg\"])\n",
    "\n",
    "ell, N_ell_T_full, N_ell_P_full = sens.getNoiseCurves(inputs, outputs)"
   ]
  },
  {
   "cell_type": "markdown",
   "metadata": {},
   "source": [
    "## EoR Calculations\n",
    "1. Import sensitivity calculator\n",
    "2. Create dictonary of parameters specifying detector\n",
    "3. Create list of pairs of finesse and frequency values to get noise curves for\n",
    "4. Call sens.eorNoiseCurves\n",
    "5. Index specific noise curve from returned dictonary"
   ]
  },
  {
   "cell_type": "code",
   "execution_count": null,
   "metadata": {},
   "outputs": [],
   "source": [
    "\n",
    "import sensitivity_calculator as sens\n",
    "import numpy as np\n",
    "\n",
    "inputs = {'diameter': 5.7, 't': 273, 'wfe': 10.7, 'eta': 0.98, 'doe': 0.8, 'pixelYield': 0.8,\n",
    "              'eorSpecNumPoln': 2, 't_filter_cold': np.array([1, 1]), 't_lens_cold': np.array([.98, .98]), 't_uhdpe_window': np.array([1, 1]), 'spatialPixels': np.array([3456, 3072]),\n",
    "              'centerFrequency': np.array([262.5*10**9, 367.5*10**9]), 'detectorNEP': 0,\n",
    "              'backgroundSubtractionDegradationFactor': 1, 'observationElevationAngle': 45, 'detectorSpacing': np.array([2.75, 2.09]), 'lyotStopAngle': 13.4}\n",
    "# diameter is the diameter of the telescope in m\n",
    "# t is the temperature of the telescope in K\n",
    "# wfe is wave front error in um\n",
    "# eta is telescope efficiency\n",
    "# doe is detector quantum efficiency; loss due to superconducting detectors\n",
    "# pixelYield is the proportion of working pixels\n",
    "# eorSpecNumPoln is the number of polarization modes for EoR spectrometers\n",
    "# t_filter_cold, t_lens_cold, and t_uhdpe_window all characterize the throughput of the instruments. However, we don't have experimental values for these yet, so they currently are an estimation.\n",
    "# spatialPixels is the total number of pixels on all arrays\n",
    "# centerFrequency is the center of the frequency range for the detector arrays\n",
    "# detectorNEP is the NEP from the detector itself\n",
    "# backgroundSubtractionDegradationFactor is an efficiency loss factor from post analysis removing of common atmospheric noise\n",
    "# observationElevationAngle is the angle above the horizon that the telescope is observing\n",
    "# detectorSpacing is the distance between pixels in the arrays in mm\n",
    "# lyotStopAngle is the angle from the detectors to the lyot stop, which controls the spill efficiency\n",
    "\n",
    "rfpairs = np.array([(100, 250*10**9), (150, 350*10**9), (1000, 400*10**9)])\n",
    "# rfpairs is a list of (resolving power, center frequency) to get noise curves for\n",
    "# Note that center frequency is in Hz\n",
    "\n",
    "allCurves = sens.eorNoiseCurves(inputs, rfpairs)\n",
    "ell_250, N_ell_T_full_250, N_ell_P_full_250 = allCurves[(100, 250*10**9)]\n",
    "ell_400, N_ell_T_full_400, N_ell_P_full_400 = allCurves[(1000, 400*10**9)]"
   ]
  },
  {
   "attachments": {},
   "cell_type": "markdown",
   "metadata": {},
   "source": [
    "## Map Simulations\n",
    "1. Run broadband calculations.\n",
    "2. Call ccat_mapsims with input parameters, output from broadband calculations, band and tube of detector, pysm components (if wanted), seed (if wanted), whether to simulate the cmb, and whether to simulate noise.\n",
    "3. Feed to healpy's anafast to analyze the power spectrum."
   ]
  },
  {
   "cell_type": "code",
   "execution_count": null,
   "metadata": {},
   "outputs": [],
   "source": [
    "import sensitivity_calculator as sens\n",
    "import healpy as hp\n",
    "\n",
    "seed = 0\n",
    "\n",
    "# Replace path with path on local machine\n",
    "zf = sens.zeroHitmapFraction(\n",
    "    \"/home/amm487/cloned_repos/Sensitivity-Calculator/src/sensitivity_calculator/data/ccat_uniform_coverage_nside256_201021.fits\", 256)\n",
    "\n",
    "ccat280map = sens.ccat_mapsims(\n",
    "    inputs, outputs, \"HF2\", \"LC1\", \"d1\", seed, sim_cmb=False, sim_noise=True)\n",
    "ccat280cls = hp.sphtfunc.anafast(ccat280map)\n",
    "sens.plotPowerSpectrum(ccat280cls[0], ccat280cls[1], ccat280cls[2],\n",
    "                    \"280 GHz CCAT Noise\", zf=zf)\n",
    "so280map = sens.so_mapsims(\"UHF2\", \"LT0\", \"d1\",\n",
    "                    seed, sim_cmb=False, sim_noise=True)\n",
    "so280cls = hp.sphtfunc.anafast(so280map)\n",
    "sens.plotPowerSpectrum(so280cls[0], so280cls[1], so280cls[2],\n",
    "                    \"280 GHz SO Noise\", zf=zf)\n",
    "ccat850map = sens.ccat_mapsims(\n",
    "    inputs, outputs, \"HF5\", \"LC3\", \"d1\", seed, sim_cmb=False, sim_noise=True)\n",
    "ccat850cls = hp.sphtfunc.anafast(ccat850map)\n",
    "sens.plotPowerSpectrum(ccat850cls[0], ccat850cls[1], ccat850cls[2],\n",
    "                    \"850 GHz CCAT Noise\", zf=zf)"
   ]
  }
 ],
 "metadata": {
  "kernelspec": {
   "display_name": "Python 3.9.12 ('base')",
   "language": "python",
   "name": "python3"
  },
  "language_info": {
   "codemirror_mode": {
    "name": "ipython",
    "version": 3
   },
   "file_extension": ".py",
   "mimetype": "text/x-python",
   "name": "python",
   "nbconvert_exporter": "python",
   "pygments_lexer": "ipython3",
   "version": "3.9.12"
  },
  "vscode": {
   "interpreter": {
    "hash": "41f69f53cc69154b45285bf3f479e6281a6b4d2ff0e3360f13e11a35b20f84c3"
   }
  }
 },
 "nbformat": 4,
 "nbformat_minor": 2
}
