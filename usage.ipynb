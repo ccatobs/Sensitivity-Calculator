{
 "cells": [
  {
   "cell_type": "markdown",
   "metadata": {},
   "source": [
    "# Overview:\n",
    "\n",
    "## Method 1:\n",
    "\n",
    "1. Change parameters in input.yaml\n",
    "2. Run Excel Spreadsheet.py\n",
    "3. Output is generated in output.yaml and power.yaml"
   ]
  },
  {
   "cell_type": "code",
   "execution_count": null,
   "metadata": {},
   "outputs": [],
   "source": [
    "%run \"Sensitivity.py\""
   ]
  },
  {
   "cell_type": "markdown",
   "metadata": {},
   "source": [
    "[Download output.yaml](output.yaml)\n",
    "\n",
    "[Download power.yaml](power.yaml)"
   ]
  },
  {
   "cell_type": "markdown",
   "metadata": {},
   "source": [
    "## Method 2:\n",
    "\n",
    "1. Import Excel Spreadsheet.py\n",
    "2. Call calcByAngle and store in a variable to create a function from observation zenith angle to various outputs\n",
    "3. Call created function with requested angle from zenith. *This is 90 - elevation angle*"
   ]
  },
  {
   "cell_type": "code",
   "execution_count": null,
   "metadata": {},
   "outputs": [],
   "source": [
    "import Sensitivity as sens\n",
    "import numpy as np\n",
    "\n",
    "inputs = {'diameter': 5.7, 't': 273, 'wfe': 10.7, 'eta': 0.98, 'doe': 0.8, 't_int': 1, 'pixelYield': 0.8, \n",
    "        'szCamNumPoln': 1, 'eorSpecNumPoln': 2, 't_filter_cold': np.array([0.593, 0.84 , 0.909, 0.922, 0.89 ]), \n",
    "        't_lens_cold': np.array([0.98, 0.98, 0.98, 0.98, 0.98]), \n",
    "        't_uhdpe_window': np.array([0.96, 0.97, 0.97, 0.97, 0.97]), \n",
    "        'singleModedAOmegaLambda2': np.array([1., 1., 1., 1., 1.]), \n",
    "        'spatialPixels': np.array([36450, 20808, 10368, 10368,  7938]), 'fpi': None, \n",
    "        'eqbw': np.array([9.7e+10, 3.0e+10, 3.6e+10, 7.0e+10, 5.6e+10]), \n",
    "        'centerFrequency': np.array([8.50e+11, 4.05e+11, 3.48e+11, 2.85e+11, 2.22e+11]), 'detectorNEP': 0, \n",
    "        'backgroundSubtractionDegradationFactor': 1, 'sensitivity': None, 'hoursPerYear': None, \n",
    "        'sensPerBeam': None, 'r': np.array([[100., 100., 100.],\n",
    "                                            [100., 100., 100.],\n",
    "                                            [100., 100., 100.],\n",
    "                                            [100., 100., 100.],\n",
    "                                            [100., 100., 100.]]), \n",
    "        'signal': None, 'decimalPlaces': 3, 'observationElevationAngle': 45, 'outputFreq': True, \n",
    "        'detectorSpacing': np.array([1.51, 1.97, 2.75, 2.75, 3.13]), 'lyotStopAngle': 13.4}\n",
    "# Alternatively, sens.getInputs(\"input.yaml\")\n",
    "\n",
    "spillEfficiency = sens.getSpillEfficiency(inputs)\n",
    "calculate = sens.calcByAngle(inputs[\"diameter\"], inputs[\"t\"], inputs[\"wfe\"], inputs[\"eta\"], inputs[\"doe\"], inputs[\"t_int\"], inputs[\"pixelYield\"], inputs[\"szCamNumPoln\"], inputs[\"eorSpecNumPoln\"],\n",
    "                            inputs[\"t_filter_cold\"], inputs[\"t_lens_cold\"], inputs[\"t_uhdpe_window\"], spillEfficiency, inputs[\"singleModedAOmegaLambda2\"],\n",
    "                            inputs[\"spatialPixels\"], inputs[\"fpi\"], inputs[\"eqbw\"], inputs[\"centerFrequency\"], inputs[\"detectorNEP\"],\n",
    "                            inputs[\"backgroundSubtractionDegradationFactor\"], inputs[\"sensitivity\"], inputs[\"hoursPerYear\"], inputs[\"sensPerBeam\"], inputs[\"r\"], inputs[\"signal\"])\n",
    "outputs = calculate(40)\n",
    "\n",
    "print(outputs[\"netW8Avg\"])"
   ]
  }
 ],
 "metadata": {
  "kernelspec": {
   "display_name": "Python 3 (ipykernel)",
   "language": "python",
   "name": "python3"
  },
  "language_info": {
   "codemirror_mode": {
    "name": "ipython",
    "version": 3
   },
   "file_extension": ".py",
   "mimetype": "text/x-python",
   "name": "python",
   "nbconvert_exporter": "python",
   "pygments_lexer": "ipython3",
   "version": "3.8.13"
  },
  "vscode": {
   "interpreter": {
    "hash": "6898589702af6bdad4fe5df28a44805a99ecd25b17bba494cf592be16dbd9d60"
   }
  }
 },
 "nbformat": 4,
 "nbformat_minor": 2
}
